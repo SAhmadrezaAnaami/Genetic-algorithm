{
 "cells": [
  {
   "cell_type": "code",
   "execution_count": 1,
   "metadata": {},
   "outputs": [],
   "source": [
    "# a + 2b + 3c + 4d - 30 = 0"
   ]
  },
  {
   "cell_type": "code",
   "execution_count": 2,
   "metadata": {},
   "outputs": [],
   "source": [
    "array = [[12, 5 ,7 ,3],\n",
    "         [2 , 26 , 1, 16],\n",
    "         [10 , 18 ,9 ,24],\n",
    "         [17 , 23 ,19 ,2],\n",
    "         [1 , 16 ,12 ,21],\n",
    "         [20 , 5 ,17 ,1]]"
   ]
  },
  {
   "cell_type": "code",
   "execution_count": 3,
   "metadata": {},
   "outputs": [],
   "source": [
    "def calculate_Equation(array):\n",
    "    a = (array[0]) + (2 * array[1]) + (3 * array[2]) + (4 * array[3]) - 30\n",
    "    return  a"
   ]
  },
  {
   "cell_type": "code",
   "execution_count": 4,
   "metadata": {},
   "outputs": [],
   "source": [
    "def calculate_losses(array):\n",
    "\n",
    "    losses = []\n",
    "    for i in range (len(array)):\n",
    "        a = calculate_Equation(array[i])\n",
    "        losses.append(a)\n",
    "        \n",
    "    return losses"
   ]
  },
  {
   "cell_type": "code",
   "execution_count": 5,
   "metadata": {},
   "outputs": [],
   "source": [
    "def Selection(array ):\n",
    "\n",
    "    import random\n",
    "    losses = calculate_losses(array)\n",
    "    tempArray = []\n",
    "    i = 6\n",
    "    while(i != 0):\n",
    "        a = array[random.randint(0 , len(array) - 1)]\n",
    "        loss = calculate_Equation(a)\n",
    "        if  loss != max(losses):\n",
    "            tempArray.append(a)\n",
    "            i = i - 1\n",
    "            \n",
    "    return tempArray\n"
   ]
  },
  {
   "cell_type": "code",
   "execution_count": 6,
   "metadata": {},
   "outputs": [],
   "source": [
    "def crossover(array):\n",
    "    import random\n",
    "    \n",
    "    for i in range ( 0 ,4):\n",
    "    \n",
    "        newArray= []\n",
    "        arrayNum = 1\n",
    "        arrayNumChange = 1\n",
    "\n",
    "        while (arrayNum == arrayNumChange):\n",
    "            arrayNum = random.randint(0 , 5)\n",
    "            arrayNumChange = random.randint(0 , 5)\n",
    "        CrossoverPoint = random.randint(1 , 3)\n",
    "\n",
    "            \n",
    "        newArray= (array[arrayNum][0 : CrossoverPoint] + array[arrayNumChange][CrossoverPoint : ])\n",
    "\n",
    "        array[arrayNum] = newArray\n",
    "\n",
    "\n",
    "\n",
    "    return array    "
   ]
  },
  {
   "cell_type": "code",
   "execution_count": 7,
   "metadata": {},
   "outputs": [],
   "source": [
    "def Evolution(array):\n",
    "    import random\n",
    "    for item in range ( 0 , 5):\n",
    "        arrayPositionA = random.randint(0 , (len(array) - 1))\n",
    "        arrayPositionB = random.randint(0 , 3)\n",
    "        num = random.randint(0 , 20)\n",
    "        \n",
    "        array[arrayPositionA][arrayPositionB] = num\n",
    "        \n",
    "    return array\n",
    "        "
   ]
  },
  {
   "cell_type": "code",
   "execution_count": 8,
   "metadata": {},
   "outputs": [
    {
     "name": "stdout",
     "output_type": "stream",
     "text": [
      "iter =  0  losses =  [93, 152, 152, 78, 102, 123]\n",
      "iter =  1  losses =  [54, 93, 67, 96, 113, 123]\n",
      "iter =  2  losses =  [34, 34, 35, 102, 34, 93]\n",
      "iter =  3  losses =  [66, 84, 110, 110, 110, 75]\n",
      "iter =  4  losses =  [70, 75, 29, 29, 84, 36]\n",
      "iter =  5  losses =  [115, 75, 42, 34, 70, 79]\n",
      "iter =  6  losses =  [70, 76, 109, 109, 38, 80]\n",
      "iter =  7  losses =  [76, 50, 76, 84, 124, 124]\n",
      "iter =  8  losses =  [52, 72, 78, 112, 80, 78]\n",
      "iter =  9  losses =  [83, 60, 71, 73, 58, 100]\n",
      "iter =  10  losses =  [58, 24, 91, 73, 58, 12]\n",
      "iter =  11  losses =  [58, 110, 42, 42, 0, 73]\n",
      "your equation parameters :  [9, 4, 3, 1]\n"
     ]
    }
   ],
   "source": [
    "for i in range ( 0 , 10000):\n",
    "    a = False\n",
    "    array = Evolution(crossover(Selection(array)))\n",
    "    print(\"iter = \" , i , \" losses = \" , calculate_losses(array) )\n",
    "    losses = calculate_losses(array)  \n",
    "\n",
    "    for i in range (0 , 5):\n",
    "        if(losses[i] == 0):\n",
    "            print(\"your equation parameters : \" , array[i])\n",
    "\n",
    "            a = True\n",
    "            break\n",
    "    if ( a == True):\n",
    "        break   \n",
    "    "
   ]
  },
  {
   "cell_type": "code",
   "execution_count": 9,
   "metadata": {},
   "outputs": [],
   "source": [
    "#a + 2b + 3c + 4d - 30 = 0"
   ]
  }
 ],
 "metadata": {
  "kernelspec": {
   "display_name": "Python 3",
   "language": "python",
   "name": "python3"
  },
  "language_info": {
   "codemirror_mode": {
    "name": "ipython",
    "version": 3
   },
   "file_extension": ".py",
   "mimetype": "text/x-python",
   "name": "python",
   "nbconvert_exporter": "python",
   "pygments_lexer": "ipython3",
   "version": "3.10.7"
  },
  "orig_nbformat": 4
 },
 "nbformat": 4,
 "nbformat_minor": 2
}
